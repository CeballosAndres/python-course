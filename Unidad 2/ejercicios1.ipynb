{
 "cells": [
  {
   "cell_type": "markdown",
   "metadata": {},
   "source": [
    "# A1 L 2.7 Resolución de ejercicios con Jupyter Widgets 1a Parte\n",
    "### Tecnológico Nacional de Méxcico Campus Colima - Ingeniería en Sistemas Computacionales\n",
    "**Lenguaje de Programación Python - Unidad II**\n",
    "\n",
    "**Alumno:** José Andrés Ceballos Vadillo"
   ]
  },
  {
   "cell_type": "code",
   "execution_count": 2,
   "metadata": {},
   "outputs": [],
   "source": [
    "import ipywidgets as widgets"
   ]
  },
  {
   "cell_type": "markdown",
   "metadata": {},
   "source": [
    "---\n",
    "### 1. Calcular el área de un cuadrado\n",
    "\n",
    "   - Área cuadrado = lado x lado = 12 cm x 12 cm = 144 cm2\n",
    "\n"
   ]
  },
  {
   "cell_type": "code",
   "execution_count": 3,
   "metadata": {},
   "outputs": [
    {
     "data": {
      "application/vnd.jupyter.widget-view+json": {
       "model_id": "db121bbdbfd14c7ea25854018c1326b5",
       "version_major": 2,
       "version_minor": 0
      },
      "text/plain": [
       "BoundedIntText(value=12, description='Lado (cm):')"
      ]
     },
     "metadata": {},
     "output_type": "display_data"
    },
    {
     "data": {
      "application/vnd.jupyter.widget-view+json": {
       "model_id": "0df6b6e34f3d42fb9f92aac60c241fbe",
       "version_major": 2,
       "version_minor": 0
      },
      "text/plain": [
       "Output()"
      ]
     },
     "metadata": {},
     "output_type": "display_data"
    }
   ],
   "source": [
    "# Entrada de lado mediante widgets\n",
    "lado = widgets.BoundedIntText(\n",
    "    value = 12,\n",
    "    step = 1,\n",
    "    min = 0,\n",
    "    description = \"Lado (cm):\",\n",
    "    disabled = False\n",
    ")\n",
    "\n",
    "# Función para calculo y despliegue de área\n",
    "def area_cuadrado(lado):\n",
    "    print(f\"El área del cuadrado es : {lado*lado} cm2\")\n",
    "\n",
    "# Instancia de widget interactivo\n",
    "out = widgets.interactive_output(area_cuadrado, {'lado':lado})\n",
    "\n",
    "# Desplegar\n",
    "display(lado, out)"
   ]
  },
  {
   "cell_type": "markdown",
   "metadata": {},
   "source": [
    "### 2. Calcular el índice de masa corporal de una persona\n",
    "- Fórmula del IMC usando el sistema métrico. El IMC es su peso en kilos divido por la altura (estatura) al cuadrado.\n",
    "\n",
    "    IMC = Peso (kg) / altura (m)2\n",
    "    Ejemplo:\n",
    "    Altura: 165 cm (1,65 m).\n",
    "    Peso: 68 kg\n",
    "    Cálculo: 68 ÷ 1,652 (2,7225) = 24,98\n"
   ]
  },
  {
   "cell_type": "code",
   "execution_count": 4,
   "metadata": {},
   "outputs": [
    {
     "data": {
      "application/vnd.jupyter.widget-view+json": {
       "model_id": "7c221204c972430092505996a4f02efb",
       "version_major": 2,
       "version_minor": 0
      },
      "text/plain": [
       "VBox(children=(BoundedFloatText(value=68.0, description='Peso (kg):', step=0.1), BoundedFloatText(value=1.65, …"
      ]
     },
     "metadata": {},
     "output_type": "display_data"
    }
   ],
   "source": [
    "# Entradas de IMC mediante widgets\n",
    "peso = widgets.BoundedFloatText(\n",
    "    value = 68.0,\n",
    "    min = 0,\n",
    "    step = 0.1,\n",
    "    description = \"Peso (kg):\",\n",
    "    disabled = False\n",
    ")\n",
    "\n",
    "altura = widgets.BoundedFloatText(\n",
    "    value = 1.65,\n",
    "    min = 0.1,\n",
    "    step = 0.1,\n",
    "    description = \"Altura (m):\",\n",
    "    disabled = False\n",
    ")\n",
    "\n",
    "# Función para calculo y despliegue del imc\n",
    "def get_imc(peso, altura):\n",
    "    imc = peso/altura**2\n",
    "    print(\"El IMC es: {:.2f}\".format(imc))\n",
    "\n",
    "# Instancia de widget interactivo\n",
    "out = widgets.interactive_output(get_imc, {'peso':peso, 'altura':altura})\n",
    "\n",
    "# Desplegando mediante VBox\n",
    "widgets.VBox([peso, altura, out])"
   ]
  },
  {
   "cell_type": "code",
   "execution_count": null,
   "metadata": {},
   "outputs": [],
   "source": []
  }
 ],
 "metadata": {
  "kernelspec": {
   "display_name": "Python 3",
   "language": "python",
   "name": "python3"
  },
  "language_info": {
   "codemirror_mode": {
    "name": "ipython",
    "version": 3
   },
   "file_extension": ".py",
   "mimetype": "text/x-python",
   "name": "python",
   "nbconvert_exporter": "python",
   "pygments_lexer": "ipython3",
   "version": "3.9.0"
  }
 },
 "nbformat": 4,
 "nbformat_minor": 4
}
