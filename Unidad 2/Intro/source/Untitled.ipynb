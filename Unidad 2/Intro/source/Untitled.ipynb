{
 "cells": [
  {
   "cell_type": "markdown",
   "metadata": {},
   "source": [
    "# Titutulo 1\n",
    "## Titulo 2\n",
    "### Titulo 3\n",
    "#### Titulo 4\n",
    "##### Titulo 5\n",
    "###### Titulo 6\n",
    "\n",
    "Este es un parrafo.\n",
    "\n",
    "Este es otro parrafo.\n",
    "\n",
    "Un checkbox\n",
    "- [x] Check list\n",
    "\n",
    "1. foo\n",
    "2. bar\n",
    "    1. baz\n",
    "    \n",
    "- uno\n",
    "- dos\n",
    "+ tres"
   ]
  },
  {
   "cell_type": "code",
   "execution_count": null,
   "metadata": {},
   "outputs": [],
   "source": []
  },
  {
   "cell_type": "code",
   "execution_count": null,
   "metadata": {},
   "outputs": [],
   "source": []
  }
 ],
 "metadata": {
  "kernelspec": {
   "display_name": "Python 3",
   "language": "python",
   "name": "python3"
  },
  "language_info": {
   "codemirror_mode": {
    "name": "ipython",
    "version": 3
   },
   "file_extension": ".py",
   "mimetype": "text/x-python",
   "name": "python",
   "nbconvert_exporter": "python",
   "pygments_lexer": "ipython3",
   "version": "3.8.5"
  }
 },
 "nbformat": 4,
 "nbformat_minor": 4
}
