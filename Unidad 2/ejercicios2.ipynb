{
 "cells": [
  {
   "cell_type": "markdown",
   "metadata": {},
   "source": [
    "# A2 2.7 Resolución de ejercicios con Jupyter Widgets\n",
    "### Tecnológico Nacional de Méxcico Campus Colima - Ingeniería en Sistemas Computacionales\n",
    "**Lenguaje de Programación Python - Unidad II**\n",
    "\n",
    "**Alumno:** José Andrés Ceballos Vadillo"
   ]
  },
  {
   "cell_type": "code",
   "execution_count": 1,
   "metadata": {},
   "outputs": [],
   "source": [
    "import ipywidgets as widgets"
   ]
  },
  {
   "cell_type": "markdown",
   "metadata": {},
   "source": [
    "---\n",
    "### 1. Simular una calculadora con almenos 3 operaciones aritmeticas"
   ]
  },
  {
   "cell_type": "code",
   "execution_count": 26,
   "metadata": {
    "scrolled": true
   },
   "outputs": [
    {
     "data": {
      "application/vnd.jupyter.widget-view+json": {
       "model_id": "a6e354ab732c48f0b8b18cebbbe00334",
       "version_major": 2,
       "version_minor": 0
      },
      "text/plain": [
       "Output()"
      ]
     },
     "metadata": {},
     "output_type": "display_data"
    },
    {
     "data": {
      "application/vnd.jupyter.widget-view+json": {
       "model_id": "cc5afa2d337b40f19885e85513964248",
       "version_major": 2,
       "version_minor": 0
      },
      "text/plain": [
       "ToggleButtons(button_style='info', layout=Layout(width='250px'), options=('1', '2', '3', 'AC', '4', '5', '6', …"
      ]
     },
     "metadata": {},
     "output_type": "display_data"
    }
   ],
   "source": [
    "# Opciones para teclado\n",
    "options = ['1','2','3','AC',\n",
    "           '4','5','6','x',\n",
    "           '7','8','9','-',\n",
    "           '0','.','=','+']\n",
    "\n",
    "# Creación de botones\n",
    "button = widgets.ToggleButtons(\n",
    "    options=options,\n",
    "    disabled=False,\n",
    "    value=None,\n",
    "    button_style='info',\n",
    "    tooltips=options,\n",
    "    # Con ancho se logra acomodar en matriz 3 columnas\n",
    "    style={'button_width':'50px'},\n",
    "    layout={'width': '250px'}\n",
    ")\n",
    "\n",
    "# Clase para manejar estado\n",
    "class Calculator:\n",
    "    def __init__(self):\n",
    "        self.disp = ''\n",
    "        self.num = 0.0\n",
    "        self.operator = ''\n",
    "        self.equal = False\n",
    "\n",
    "    def clean(self):\n",
    "        self.disp = ''\n",
    "        self.num = 0.0\n",
    "        self.operator = ''\n",
    "        self.equal = False\n",
    "    \n",
    "    # Método para manejar operaciones\n",
    "    def get_result(self):\n",
    "        if(self.disp != ''):  # previene error de conversión\n",
    "            if(self.operator == ''):\n",
    "                pass\n",
    "            else:\n",
    "                if(self.operator == '+'):\n",
    "                    self.num += float(cal.disp)\n",
    "                elif(self.operator == '-'):\n",
    "                    if(self.num == 0.0):  # evita resultado negativo\n",
    "                        self.num = float(self.disp)\n",
    "                    else:\n",
    "                        self.num -= float(self.disp)\n",
    "                elif(self.operator == 'x'):\n",
    "                    if(self.num == 0.0): # evita multiplicación inicial por 0\n",
    "                        self.num = 1\n",
    "                    self.num *= float(cal.disp)\n",
    "\n",
    "                self.disp = ''\n",
    "\n",
    "                if(self.equal):\n",
    "                    self.disp = str(self.num)\n",
    "\n",
    "# Instanciar calcualdora        \n",
    "cal = Calculator()\n",
    "\n",
    "\n",
    "# Función para pasar a metodo interactivo        \n",
    "def operation(opt):\n",
    "    if(cal.equal): # previene fallos \n",
    "        cal.clean()\n",
    "        cal.equal = False\n",
    "    if (opt == None):\n",
    "        pass\n",
    "    elif (opt == 'AC'):\n",
    "        cal.clean()\n",
    "    elif (opt == 'x'):\n",
    "        cal.operator = 'x'\n",
    "        cal.get_result()\n",
    "    elif (opt == '-'):\n",
    "        cal.operator = '-' \n",
    "        cal.get_result()\n",
    "    elif (opt == '+'):\n",
    "        cal.operator = '+'\n",
    "        cal.get_result()\n",
    "    elif (opt == '='):\n",
    "        cal.equal = True\n",
    "        cal.get_result()\n",
    "    else:\n",
    "        cal.disp = cal.disp + opt\n",
    "        button.value = None   \n",
    "    if(opt!=None): # previene doble impresión\n",
    "        print(cal.disp)\n",
    "\n",
    "# objeto para mostrar salida e interactuar\n",
    "out = widgets.interactive_output(operation, {'opt':button})\n",
    "\n",
    "# pintar en pantalla\n",
    "display(out, button)"
   ]
  },
  {
   "cell_type": "code",
   "execution_count": null,
   "metadata": {},
   "outputs": [],
   "source": []
  }
 ],
 "metadata": {
  "kernelspec": {
   "display_name": "Python 3",
   "language": "python",
   "name": "python3"
  },
  "language_info": {
   "codemirror_mode": {
    "name": "ipython",
    "version": 3
   },
   "file_extension": ".py",
   "mimetype": "text/x-python",
   "name": "python",
   "nbconvert_exporter": "python",
   "pygments_lexer": "ipython3",
   "version": "3.9.0"
  }
 },
 "nbformat": 4,
 "nbformat_minor": 4
}
